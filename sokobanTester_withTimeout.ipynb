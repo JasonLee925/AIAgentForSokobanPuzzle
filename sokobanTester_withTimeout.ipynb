{
 "cells": [
  {
   "cell_type": "code",
   "execution_count": 1,
   "id": "ed3eb8ab-7944-4573-83e5-2d18cf808d7f",
   "metadata": {},
   "outputs": [],
   "source": [
    "import glob\n",
    "import time\n",
    "from sokoban import Warehouse\n",
    "\n",
    "import multiprocessing as mp\n",
    "import multiprocessing.queues as mpq\n",
    "\n",
    "from typing import Tuple, Callable, Dict\n",
    "\n",
    "import json"
   ]
  },
  {
   "cell_type": "markdown",
   "id": "d46f54d6-4039-42d3-92d8-ac81c63ae53a",
   "metadata": {},
   "source": [
    "## This Testing File\n",
    "\n",
    "This file shows how to automate testing across all warehouses **with a timeout option** for warehouses that take longer than 3 minutes. It may assist you in performing a more widescale evaluation."
   ]
  },
  {
   "cell_type": "code",
   "execution_count": 2,
   "id": "471f3512-8f94-436d-8fee-d48614b92dbb",
   "metadata": {},
   "outputs": [],
   "source": [
    "#Import the mySokobanSolver.py file to import all functions\n",
    "from mySokobanSolver import *"
   ]
  },
  {
   "cell_type": "markdown",
   "id": "bc21c506-c52c-4eb5-ab5b-7e7d8b702264",
   "metadata": {},
   "source": [
    "## Visualise results"
   ]
  },
  {
   "cell_type": "code",
   "execution_count": 3,
   "id": "1c0dbba1-8b2a-4a84-b149-18752f77d3c1",
   "metadata": {},
   "outputs": [],
   "source": [
    "def test_warehouse(problem_file, macro = False):\n",
    "    '''\n",
    "    This function will test the performance of your warehouse for either macro or elem solutions and return the result.\n",
    "    You can check if this solution works with your gui, or by cleverly using the check_action_seq function.\n",
    "    '''\n",
    "\n",
    "    wh = Warehouse()\n",
    "    wh.load_warehouse(problem_file)\n",
    "\n",
    "    if macro:\n",
    "        student_answer =  solve_sokoban_macro(wh)\n",
    "    else:\n",
    "        student_answer = solve_sokoban_elem(wh)\n",
    "        \n",
    "    return student_answer\n",
    "#.............................................................\n"
   ]
  },
  {
   "cell_type": "code",
   "execution_count": null,
   "id": "d9ecd8ce-d106-4a57-9aa8-dff41f21950c",
   "metadata": {},
   "outputs": [],
   "source": [
    "all_warehouses = sorted(glob.glob('warehouses/*.txt'))\n",
    "\n",
    "elem_step = {}\n",
    "macro_step = {}\n",
    "\n",
    "elem_time = {}\n",
    "macro_time = {}\n",
    "\n",
    "def warehouse_timeout(args: Tuple[object], q: mp.Queue):\n",
    "    #Do not alter this code.\n",
    "    q.put(test_warehouse(*args))\n",
    "    \n",
    "def test_with_timeout(problem_file, macro = False, timeout = 180):\n",
    "    \"\"\"\n",
    "    This function tests on a warehouse with the ability to timeout after a specified number of seconds. \n",
    "\n",
    "    Parameters:\n",
    "    problem_file (str): directory of a warehouse\n",
    "    macro (bool): indicates whether to use the macro solver. If false, will use the elem solver\n",
    "    timeout (int): The number of seconds the solver can run without timing out.\n",
    "\n",
    "    Returns:\n",
    "    The solver solution or the string \"Timed out\"\n",
    "    \"\"\"\n",
    "    \n",
    "    global elem_step, macro_step\n",
    "    \n",
    "    q_worker = mp.Queue()\n",
    "    proc = mp.Process(target=warehouse_timeout, args=((problem_file,macro), q_worker))\n",
    "    proc.start()\n",
    "    try:\n",
    "        res = q_worker.get(timeout=timeout)\n",
    "    except mpq.Empty:\n",
    "        proc.terminate()\n",
    "        res = \"Timed out\"\n",
    "\n",
    "    if macro == True:\n",
    "        macro_step[problem_file] = res\n",
    "    else:\n",
    "        elem_step[problem_file] = res\n",
    "            \n",
    "    return res\n",
    "\n",
    "def save_to_file (my_dict, filename):\n",
    "     with open(filename, 'w') as file:\n",
    "        json.dump(my_dict, file)\n",
    "\n",
    "for problem_file in all_warehouses:\n",
    "    print(f'Testing {problem_file}')\n",
    "    \n",
    "    print(\"---Testing Elem Solver---\")\n",
    "    s = time.time()\n",
    "    a = test_with_timeout(problem_file)\n",
    "    print(f'Answer: {a}')\n",
    "    taken_time = time.time()-s\n",
    "    print(f'Time taken: {taken_time :.3f} seconds')\n",
    "    # print(f'[Total elem moves]: {elem_path_total}')\n",
    "    # print(f'[Total elem solves]: {elem_solve_total}')\n",
    "\n",
    "    elem_time[problem_file] = taken_time*1000\n",
    "    save_to_file(elem_time, 'elem_time.json')\n",
    "    save_to_file(elem_step, 'elem_step.json')\n",
    "    \n",
    "    print(\"---Testing Macro Solver---\")\n",
    "    s = time.time()\n",
    "    a = test_with_timeout(problem_file, True)\n",
    "    print(f'Answer for Macro Solver: {a}')\n",
    "    taken_time = time.time()-s\n",
    "    print(f'Time taken: {taken_time :.3f} seconds')\n",
    "    # print(f'[Total macro moves]: {macro_path_total}')   \n",
    "    # print(f'[Total macro solves]: {macro_solve_total}')   \n",
    "    \n",
    "    macro_time[problem_file] = taken_time *1000\n",
    "    save_to_file(macro_time, 'macro_time.json')\n",
    "    save_to_file(macro_step, 'macro_step.json')\n",
    "    print('==============================================================================================')"
   ]
  },
  {
   "cell_type": "code",
   "execution_count": null,
   "id": "bc33695d-fb8f-4d3c-a7fe-d47e3d031878",
   "metadata": {},
   "outputs": [],
   "source": []
  },
  {
   "cell_type": "code",
   "execution_count": null,
   "id": "02385ae3-04cc-4e17-a3f2-eba822534ab3",
   "metadata": {},
   "outputs": [],
   "source": []
  }
 ],
 "metadata": {
  "kernelspec": {
   "display_name": "Python 3 (ipykernel)",
   "language": "python",
   "name": "python3"
  },
  "language_info": {
   "codemirror_mode": {
    "name": "ipython",
    "version": 3
   },
   "file_extension": ".py",
   "mimetype": "text/x-python",
   "name": "python",
   "nbconvert_exporter": "python",
   "pygments_lexer": "ipython3",
   "version": "3.11.5"
  }
 },
 "nbformat": 4,
 "nbformat_minor": 5
}
